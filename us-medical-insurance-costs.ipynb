{
 "cells": [
  {
   "cell_type": "markdown",
   "metadata": {},
   "source": [
    "# U.S. Medical Insurance Costs"
   ]
  },
  {
   "cell_type": "markdown",
   "metadata": {},
   "source": [
    "## Goals\n",
    "1. Find the average age of the patients in the dataset.\n",
    "2. Analyze where a majority of the individuals are from.\n",
    "3. Look at the gender of the individuals.\n",
    "4. Look at the costs based on gender.\n",
    "5. Look at the costs based on Body Mass Index (BMI). "
   ]
  },
  {
   "cell_type": "markdown",
   "metadata": {},
   "source": [
    "#### 1. Importing the data"
   ]
  },
  {
   "cell_type": "code",
   "execution_count": 30,
   "metadata": {},
   "outputs": [
    {
     "name": "stdout",
     "output_type": "stream",
     "text": [
      "{'age': '19', 'sex': 'female', 'bmi': '27.9', 'children': '0', 'smoker': 'yes', 'region': 'southwest', 'charges': '16884.924'}\n"
     ]
    }
   ],
   "source": [
    "import csv\n",
    "insurance_data = []\n",
    "with open('insurance.csv', 'r') as insurance_file:\n",
    "    reader = csv.DictReader(insurance_file)\n",
    "    headers = reader.fieldnames\n",
    "    for row in reader:\n",
    "        insurance_data.append(row)\n",
    "\n",
    "print(insurance_data[0])"
   ]
  },
  {
   "cell_type": "markdown",
   "metadata": {},
   "source": [
    "#### 2. Average age of the patients in the dataset"
   ]
  },
  {
   "cell_type": "code",
   "execution_count": 31,
   "metadata": {},
   "outputs": [
    {
     "name": "stdout",
     "output_type": "stream",
     "text": [
      "The average age is 39.\n"
     ]
    }
   ],
   "source": [
    "average_age = round(sum([int(data['age']) for data in insurance_data ]) / len(insurance_data))\n",
    "\n",
    "print(f\"The average age is {average_age}.\")"
   ]
  },
  {
   "cell_type": "markdown",
   "metadata": {},
   "source": [
    "#### 3. Where a majority of the individuals are from"
   ]
  },
  {
   "cell_type": "code",
   "execution_count": 32,
   "metadata": {},
   "outputs": [
    {
     "name": "stdout",
     "output_type": "stream",
     "text": [
      "The majority of individuals are from the southeast region with 364 individuals.\n"
     ]
    }
   ],
   "source": [
    "from collections import Counter\n",
    "\n",
    "regions = [data['region'] for data in insurance_data]\n",
    "region_counts = Counter(regions)\n",
    "most_common_region = region_counts.most_common(1)[0]\n",
    "\n",
    "print(f\"The majority of individuals are from the {most_common_region[0]} region with {most_common_region[1]} individuals.\")"
   ]
  },
  {
   "cell_type": "markdown",
   "metadata": {},
   "source": [
    "#### 4. Look at the gender of the individuals"
   ]
  },
  {
   "cell_type": "code",
   "execution_count": 33,
   "metadata": {},
   "outputs": [
    {
     "name": "stdout",
     "output_type": "stream",
     "text": [
      "Gender distribution: male - 676 vs female - 662\n"
     ]
    }
   ],
   "source": [
    "gender_counts = Counter([data['sex'] for data in insurance_data])\n",
    "print(f\"Gender distribution: male - {gender_counts['male']} vs female - {gender_counts['female']}\")"
   ]
  },
  {
   "cell_type": "markdown",
   "metadata": {},
   "source": [
    "#### 5. Look at the costs based on gender"
   ]
  },
  {
   "cell_type": "code",
   "execution_count": 37,
   "metadata": {},
   "outputs": [
    {
     "name": "stdout",
     "output_type": "stream",
     "text": [
      "Average cost for males: 13956.75\n",
      "Average cost for females: 12569.58\n",
      "1338\n"
     ]
    }
   ],
   "source": [
    "def costs_by_gender():\n",
    "    costs_by_gender = {'male': [], 'female': []}\n",
    "\n",
    "    for data in insurance_data:\n",
    "        costs_by_gender[data['sex']].append(float(data['charges']))\n",
    "\n",
    "    return {gender: sum(costs) / len(costs) for gender, costs in costs_by_gender.items()}\n",
    "\n",
    "\n",
    "\n",
    "average_costs_by_gender = costs_by_gender()\n",
    "\n",
    "print(f\"Average cost for males: {average_costs_by_gender['male']:.2f}\")\n",
    "print(f\"Average cost for females: {average_costs_by_gender['female']:.2f}\")\n"
   ]
  },
  {
   "cell_type": "markdown",
   "metadata": {},
   "source": [
    "On average we can see that the healthcare costs are higher for male patients by more than 1000 USD."
   ]
  },
  {
   "cell_type": "markdown",
   "metadata": {},
   "source": [
    "#### 6. Look at the costs based on Body Mass Index (BMI)"
   ]
  },
  {
   "cell_type": "code",
   "execution_count": 43,
   "metadata": {},
   "outputs": [
    {
     "name": "stdout",
     "output_type": "stream",
     "text": [
      "Average costs based on BMI categories:\n",
      "Underweight: $8852.20 (Count: 20)\n",
      "Count of overweight/obese patients divided by underweight/normal patients: 4.53\n",
      "Normal weight: $10379.50 (Count: 222)\n",
      "Count of overweight/obese patients divided by underweight/normal patients: 4.53\n",
      "Overweight: $11017.60 (Count: 374)\n",
      "Count of overweight/obese patients divided by underweight/normal patients: 4.53\n",
      "Obesity: $15448.68 (Count: 722)\n",
      "Count of overweight/obese patients divided by underweight/normal patients: 4.53\n"
     ]
    }
   ],
   "source": [
    "def get_average_costs_by_bmi(patient_data):\n",
    "    bmi_categories = {\n",
    "        'Underweight': [],\n",
    "        'Normal weight': [],\n",
    "        'Overweight': [],\n",
    "        'Obesity': []\n",
    "    }\n",
    "\n",
    "    for data in patient_data:\n",
    "        bmi = float(data['bmi'])\n",
    "        charges = float(data['charges'])\n",
    "        if bmi < 18.5:\n",
    "            bmi_categories['Underweight'].append(charges)\n",
    "        elif 18.5 <= bmi < 24.9:\n",
    "            bmi_categories['Normal weight'].append(charges)\n",
    "        elif 25 <= bmi < 29.9:\n",
    "            bmi_categories['Overweight'].append(charges)\n",
    "        else:\n",
    "            bmi_categories['Obesity'].append(charges)\n",
    "\n",
    "    return {category: {'count': len(costs), 'average': sum(costs) / len(costs) if costs else 0} for category, costs in bmi_categories.items()}\n",
    "\n",
    "average_costs_by_bmi = get_average_costs_by_bmi(insurance_data)\n",
    "\n",
    "print(\"Average costs based on BMI categories:\")\n",
    "\n",
    "for category, stats in average_costs_by_bmi.items():\n",
    "    print(f\"{category}: ${stats['average']:.2f} (Count: {stats['count']})\")\n",
    "\n",
    "    overweight_obese_count = average_costs_by_bmi['Overweight']['count'] + average_costs_by_bmi['Obesity']['count']\n",
    "    underweight_normal_count = average_costs_by_bmi['Underweight']['count'] + average_costs_by_bmi['Normal weight']['count']\n",
    "\n",
    "    ratio = overweight_obese_count / underweight_normal_count\n",
    "\n",
    "    print(f\"Count of overweight/obese patients divided by underweight/normal patients: {ratio:.2f}\")"
   ]
  },
  {
   "cell_type": "markdown",
   "metadata": {},
   "source": [
    "We use the typical BMI categories (underweight, normal, overweight, obese) to group the patients and calculate the average costs for each group. We can clearly see that the average costs increase with the increase of BMI category."
   ]
  },
  {
   "cell_type": "markdown",
   "metadata": {},
   "source": [
    "### Conclusion\n",
    "\n",
    "From the current data analysis, it is clear that the costs are higher on average for patients with a higher BMI. Especially for obese patients, the costs are significantly higher. Also, the number of overweight / obese people is more than 4 and a half times the count of the other groups. This means that steps should be taken to reduce the number of obese patients in order to reduce the overall healthcare costs."
   ]
  }
 ],
 "metadata": {
  "kernelspec": {
   "display_name": "base",
   "language": "python",
   "name": "python3"
  },
  "language_info": {
   "codemirror_mode": {
    "name": "ipython",
    "version": 3
   },
   "file_extension": ".py",
   "mimetype": "text/x-python",
   "name": "python",
   "nbconvert_exporter": "python",
   "pygments_lexer": "ipython3",
   "version": "3.12.2"
  }
 },
 "nbformat": 4,
 "nbformat_minor": 4
}
